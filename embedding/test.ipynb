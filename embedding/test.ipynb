{
 "cells": [
  {
   "cell_type": "code",
   "execution_count": 14,
   "metadata": {},
   "outputs": [
    {
     "name": "stderr",
     "output_type": "stream",
     "text": [
      "Warning : `load_model` does not return WordVectorModel or SupervisedModel any more, but a `FastText` object which is very similar.\n"
     ]
    }
   ],
   "source": [
    "import fasttext\n",
    "import fasttext.util\n",
    "model = fasttext.load_model(\"toastynews.bin\")"
   ]
  },
  {
   "cell_type": "code",
   "execution_count": 17,
   "metadata": {},
   "outputs": [],
   "source": [
    "import numpy as np\n",
    "from numpy.linalg import norm\n",
    "\n",
    "def cosine_similarity(A, B):\n",
    "    return np.dot(A,B)/(norm(A)*norm(B))"
   ]
  },
  {
   "cell_type": "code",
   "execution_count": 36,
   "metadata": {},
   "outputs": [
    {
     "name": "stdout",
     "output_type": "stream",
     "text": [
      "他\n",
      "是\n",
      "給\n",
      "不\n",
      "的\n"
     ]
    }
   ],
   "source": [
    "target_diff = model.get_word_vector('嘅') - model.get_word_vector('的')\n",
    "canto_words = ['佢', '係', '畀', '唔', '啫']\n",
    "for canto_word in canto_words:\n",
    "    min_distance = 9999\n",
    "    closest_word = ''\n",
    "    canto_vec = model.get_word_vector(canto_word)\n",
    "    for word in model.words:\n",
    "        if word != canto_word and len(word) == len(canto_word):\n",
    "            diff = canto_vec - model.get_word_vector(word)\n",
    "            distance = 1 - cosine_similarity(target_diff, diff)\n",
    "            if distance < min_distance:\n",
    "                min_distance = distance\n",
    "                closest_word = word\n",
    "    print(closest_word)"
   ]
  },
  {
   "cell_type": "code",
   "execution_count": null,
   "metadata": {},
   "outputs": [],
   "source": []
  }
 ],
 "metadata": {
  "kernelspec": {
   "display_name": "Python 3 (ipykernel)",
   "language": "python",
   "name": "python3"
  },
  "language_info": {
   "codemirror_mode": {
    "name": "ipython",
    "version": 3
   },
   "file_extension": ".py",
   "mimetype": "text/x-python",
   "name": "python",
   "nbconvert_exporter": "python",
   "pygments_lexer": "ipython3",
   "version": "3.9.16"
  }
 },
 "nbformat": 4,
 "nbformat_minor": 2
}
